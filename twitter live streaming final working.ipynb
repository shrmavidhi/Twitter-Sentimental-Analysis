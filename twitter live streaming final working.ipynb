{
 "cells": [
  {
   "cell_type": "code",
   "execution_count": 1,
   "metadata": {},
   "outputs": [],
   "source": [
    "data_to_be_discussed = \"lockdown\""
   ]
  },
  {
   "cell_type": "code",
   "execution_count": 1,
   "metadata": {},
   "outputs": [],
   "source": [
    "%matplotlib inline\n",
    "import warnings\n",
    "warnings.filterwarnings(\"ignore\")\n",
    "\n",
    "import re\n",
    "# Tutorial about Python regular expressions: https://pymotw.com/2/re/\n",
    "import string\n",
    "import sqlite3\n",
    "import nltk\n",
    "from nltk.corpus import stopwords\n",
    "from nltk.stem import PorterStemmer\n",
    "from nltk.stem.wordnet import WordNetLemmatizer\n",
    "\n",
    "from gensim.models import Word2Vec\n",
    "from gensim.models import KeyedVectors\n",
    "import pickle\n",
    "\n",
    "from tqdm import tqdm\n",
    "import os\n",
    "\n",
    "import numpy as np\n",
    "import pandas as pd\n",
    "import matplotlib.pyplot as plt\n",
    "import seaborn as sns\n",
    "from sklearn.model_selection  import train_test_split\n",
    "from sklearn.neighbors import KNeighborsClassifier\n",
    "from sklearn.metrics import accuracy_score\n",
    "from sklearn.model_selection  import cross_val_score\n",
    "from collections import Counter\n",
    "from sklearn import model_selection\n",
    "from sklearn.metrics import roc_auc_score\n",
    "from textblob import TextBlob \n",
    "import tweepy\n",
    "from tweepy import Stream\n",
    "from tweepy.streaming import StreamListener\n",
    "from tweepy import OAuthHandler\n",
    "from sklearn.feature_extraction.text import TfidfTransformer\n",
    "from sklearn.feature_extraction.text import TfidfVectorizer\n",
    "\n",
    "from sklearn.feature_extraction.text import CountVectorizer\n",
    "from sklearn.metrics import confusion_matrix\n",
    "from sklearn import metrics\n",
    "from sklearn.metrics import roc_curve, auc\n",
    "from nltk.stem.porter import PorterStemmer"
   ]
  },
  {
   "cell_type": "markdown",
   "metadata": {},
   "source": [
    "# TWITTER STREAMER"
   ]
  },
  {
   "cell_type": "code",
   "execution_count": 3,
   "metadata": {},
   "outputs": [],
   "source": [
    "class TwitterStreamer():\n",
    "  \n",
    "    def __init__(self):\n",
    "        self.twitter_autenticator = TwitterAuthenticator()    \n",
    "\n",
    "    def stream_tweets(self, fetched_tweets_filename, hash_tag_list):\n",
    "        \n",
    "        # Handling Twitter authetification and the connection to Twitter Streaming API\n",
    "        \n",
    "        listener = TwitterListener(fetched_tweets_filename)\n",
    "        auth = self.twitter_autenticator.authenticate_twitter_app() \n",
    "        stream = Stream(auth, listener)\n",
    "        \n",
    "        stream.filter(track=hash_tag_list)    # Filtering Twitter Streams to capture data by the keywords:"
   ]
  },
  {
   "cell_type": "markdown",
   "metadata": {},
   "source": [
    "# TWITTER STREAM LISTENER"
   ]
  },
  {
   "cell_type": "code",
   "execution_count": 4,
   "metadata": {},
   "outputs": [],
   "source": [
    "class TwitterListener(StreamListener):\n",
    "    \n",
    "    def __init__(self, fetched_tweets_filename):\n",
    "        self.fetched_tweets_filename = fetched_tweets_filename\n",
    "\n",
    "    def on_data(self, data):\n",
    "        try:\n",
    "            print(data)\n",
    "            with open(self.fetched_tweets_filename, 'a') as tf:\n",
    "                tf.write(data)\n",
    "            return True\n",
    "        except BaseException as e:\n",
    "            print(\"Error on_data %s\" % str(e))\n",
    "        return True\n",
    "          \n",
    "    def on_error(self, status):\n",
    "        if status == 420:   # Returning False on_data method in case rate limit occurs.\n",
    "            return False\n",
    "        print(status)"
   ]
  },
  {
   "cell_type": "markdown",
   "metadata": {},
   "source": [
    "# TWITTER CLIENT"
   ]
  },
  {
   "cell_type": "code",
   "execution_count": 5,
   "metadata": {},
   "outputs": [],
   "source": [
    "class TwitterClient():\n",
    "    def __init__(self, twitter_user=None):\n",
    "        self.auth = TwitterAuthenticator().authenticate_twitter_app()\n",
    "    \n",
    "        self.twitter_client = tweepy.API(self.auth)\n",
    "\n",
    "        self.twitter_user = twitter_user\n",
    "\n",
    "    def get_twitter_client_api(self):\n",
    "        return self.twitter_client\n",
    "\n",
    "    def get_user_timeline_tweets(self, num_tweets):\n",
    "        tweets = []\n",
    "        for tweet in Cursor(self.twitter_client.user_timeline, id=self.twitter_user).items(num_tweets):\n",
    "            tweets.append(tweet)\n",
    "        return tweets\n",
    "\n",
    "    def get_friend_list(self, num_friends):\n",
    "        friend_list = []\n",
    "        for friend in Cursor(self.twitter_client.friends, id=self.twitter_user).items(num_friends):\n",
    "            friend_list.append(friend)\n",
    "        return friend_list\n",
    "\n",
    "    def get_home_timeline_tweets(self, num_tweets):\n",
    "        home_timeline_tweets = []\n",
    "        for tweet in Cursor(self.twitter_client.home_timeline, id=self.twitter_user).items(num_tweets):\n",
    "            home_timeline_tweets.append(tweet)\n",
    "        return home_timeline_tweets"
   ]
  },
  {
   "cell_type": "markdown",
   "metadata": {},
   "source": [
    "# TWITTER AUTHENTICATER"
   ]
  },
  {
   "cell_type": "code",
   "execution_count": 6,
   "metadata": {},
   "outputs": [],
   "source": [
    "consumer_key='CQEETH8y2aRjmZ09rcaKq31xW'\n",
    "consumer_secretkey='S06XahozWM2UclNjOWNDa950ovZZSeR2ROO80PU9BKfG2HTXUc'\n",
    "tokenkey='1099592114160099328-bjBkGXkwvRbQDwlODzlJJCoUVwOSha'\n",
    "token_secretkey='wqp5M4xrfumwEwL7K5eVvX7r7YLnBpK41SSLmA2rve2EW'\n",
    "consumer_secret='S06XahozWM2UclNjOWNDa950ovZZSeR2ROO80PU9BKfG2HTXUc'\n",
    "access_token='1099592114160099328-bjBkGXkwvRbQDwlODzlJJCoUVwOSha'\n",
    "access_token_secret='wqp5M4xrfumwEwL7K5eVvX7r7YLnBpK41SSLmA2rve2EW'"
   ]
  },
  {
   "cell_type": "code",
   "execution_count": 7,
   "metadata": {},
   "outputs": [],
   "source": [
    "class TwitterAuthenticator():\n",
    "\n",
    "    def authenticate_twitter_app(self):\n",
    "        auth = OAuthHandler(consumer_key, consumer_secretkey)\n",
    "        auth.set_access_token(tokenkey, token_secretkey)\n",
    "        return auth"
   ]
  },
  {
   "cell_type": "markdown",
   "metadata": {},
   "source": [
    "# TWITTER ANALYZER in DF"
   ]
  },
  {
   "cell_type": "code",
   "execution_count": 8,
   "metadata": {},
   "outputs": [],
   "source": [
    "class TweetAnalyzer():\n",
    " \n",
    "    def tweets_to_data_frame(self, tweets):\n",
    "        df = pd.DataFrame(data=[tweet.text for tweet in tweets], columns=['tweets'])\n",
    "\n",
    "        df['id'] = np.array([tweet.id for tweet in tweets])\n",
    "        df['len'] = np.array([len(tweet.text) for tweet in tweets])\n",
    "        df['date'] = np.array([tweet.created_at for tweet in tweets])\n",
    "        df['source'] = np.array([tweet.source for tweet in tweets])\n",
    "        df['likes'] = np.array([tweet.favorite_count for tweet in tweets])\n",
    "        df['retweets'] = np.array([tweet.retweet_count for tweet in tweets])\n",
    "        \n",
    "\n",
    "        return df "
   ]
  },
  {
   "cell_type": "markdown",
   "metadata": {},
   "source": [
    "# MAIN BODY"
   ]
  },
  {
   "cell_type": "code",
   "execution_count": 9,
   "metadata": {},
   "outputs": [
    {
     "name": "stdout",
     "output_type": "stream",
     "text": [
      "                                              tweets                   id  \\\n",
      "0  Keep working kid!! @justinbradford_  #2021Clas...  1261136883595096070   \n",
      "1  Congrats again Siz! Good Work Scott!! https://...  1260787091685793793   \n",
      "2  Congratulations JB! Great decision and great d...  1260705392260083712   \n",
      "3  Keep working in the Darkness! #MakeItHappen #N...  1260025381295276032   \n",
      "4  Congrats JB on your first season at new school...  1259940684632489984   \n",
      "5     RT @BVEvery: More than 20 offers for Bradford!  1254847673951088640   \n",
      "6  Attacking week 6 of quarantine...Go Get It!! h...  1254845129719820288   \n",
      "7  Work in the Darkness, so when the light shines...  1254823943162085378   \n",
      "8  Smooth transition from pedal to crossover, goo...  1253816252407013376   \n",
      "9  Good job getting your head around to relocate ...  1253813407712546816   \n",
      "\n",
      "   len                date              source  likes  retweets  \n",
      "0   81 2020-05-15 03:30:38  Twitter for iPhone     13         2  \n",
      "1   61 2020-05-14 04:20:41  Twitter for iPhone      9         0  \n",
      "2  131 2020-05-13 22:56:02  Twitter for iPhone     11         1  \n",
      "3   78 2020-05-12 01:53:55  Twitter for iPhone     10         2  \n",
      "4  140 2020-05-11 20:17:22  Twitter for iPhone      4         0  \n",
      "5   46 2020-04-27 18:59:34  Twitter for iPhone      0         2  \n",
      "6   68 2020-04-27 18:49:27     Twitter Web App      6         0  \n",
      "7  114 2020-04-27 17:25:16     Twitter Web App      3         0  \n",
      "8  133 2020-04-24 22:41:04  Twitter for iPhone      7         1  \n",
      "9  130 2020-04-24 22:29:45  Twitter for iPhone     12         2  \n"
     ]
    }
   ],
   "source": [
    "import pandas as pd\n",
    "from textblob import TextBlob\n",
    "import numpy as np\n",
    "\n",
    "if __name__ == '__main__':\n",
    "\n",
    "   \n",
    "    twitter_client = TwitterClient()\n",
    "    tweet_analyzer = TweetAnalyzer()\n",
    "\n",
    "    api = twitter_client.get_twitter_client_api()\n",
    "\n",
    "    tweets = api.user_timeline(screen_name=data_to_be_discussed, count=100)\n",
    "\n",
    "    adf = tweet_analyzer.tweets_to_data_frame(tweets)\n",
    "\n",
    "    print(adf.head(10))"
   ]
  },
  {
   "cell_type": "code",
   "execution_count": 10,
   "metadata": {},
   "outputs": [
    {
     "data": {
      "text/html": [
       "<div>\n",
       "<style scoped>\n",
       "    .dataframe tbody tr th:only-of-type {\n",
       "        vertical-align: middle;\n",
       "    }\n",
       "\n",
       "    .dataframe tbody tr th {\n",
       "        vertical-align: top;\n",
       "    }\n",
       "\n",
       "    .dataframe thead th {\n",
       "        text-align: right;\n",
       "    }\n",
       "</style>\n",
       "<table border=\"1\" class=\"dataframe\">\n",
       "  <thead>\n",
       "    <tr style=\"text-align: right;\">\n",
       "      <th></th>\n",
       "      <th>tweets</th>\n",
       "      <th>id</th>\n",
       "      <th>len</th>\n",
       "      <th>date</th>\n",
       "      <th>source</th>\n",
       "      <th>likes</th>\n",
       "      <th>retweets</th>\n",
       "    </tr>\n",
       "  </thead>\n",
       "  <tbody>\n",
       "    <tr>\n",
       "      <td>0</td>\n",
       "      <td>Keep working kid!! @justinbradford_  #2021Clas...</td>\n",
       "      <td>1261136883595096070</td>\n",
       "      <td>81</td>\n",
       "      <td>2020-05-15 03:30:38</td>\n",
       "      <td>Twitter for iPhone</td>\n",
       "      <td>13</td>\n",
       "      <td>2</td>\n",
       "    </tr>\n",
       "    <tr>\n",
       "      <td>1</td>\n",
       "      <td>Congrats again Siz! Good Work Scott!! https://...</td>\n",
       "      <td>1260787091685793793</td>\n",
       "      <td>61</td>\n",
       "      <td>2020-05-14 04:20:41</td>\n",
       "      <td>Twitter for iPhone</td>\n",
       "      <td>9</td>\n",
       "      <td>0</td>\n",
       "    </tr>\n",
       "    <tr>\n",
       "      <td>2</td>\n",
       "      <td>Congratulations JB! Great decision and great d...</td>\n",
       "      <td>1260705392260083712</td>\n",
       "      <td>131</td>\n",
       "      <td>2020-05-13 22:56:02</td>\n",
       "      <td>Twitter for iPhone</td>\n",
       "      <td>11</td>\n",
       "      <td>1</td>\n",
       "    </tr>\n",
       "    <tr>\n",
       "      <td>3</td>\n",
       "      <td>Keep working in the Darkness! #MakeItHappen #N...</td>\n",
       "      <td>1260025381295276032</td>\n",
       "      <td>78</td>\n",
       "      <td>2020-05-12 01:53:55</td>\n",
       "      <td>Twitter for iPhone</td>\n",
       "      <td>10</td>\n",
       "      <td>2</td>\n",
       "    </tr>\n",
       "    <tr>\n",
       "      <td>4</td>\n",
       "      <td>Congrats JB on your first season at new school...</td>\n",
       "      <td>1259940684632489984</td>\n",
       "      <td>140</td>\n",
       "      <td>2020-05-11 20:17:22</td>\n",
       "      <td>Twitter for iPhone</td>\n",
       "      <td>4</td>\n",
       "      <td>0</td>\n",
       "    </tr>\n",
       "    <tr>\n",
       "      <td>...</td>\n",
       "      <td>...</td>\n",
       "      <td>...</td>\n",
       "      <td>...</td>\n",
       "      <td>...</td>\n",
       "      <td>...</td>\n",
       "      <td>...</td>\n",
       "      <td>...</td>\n",
       "    </tr>\n",
       "    <tr>\n",
       "      <td>95</td>\n",
       "      <td>Happy Mother’s Day to the the Past, Present , ...</td>\n",
       "      <td>995812381015109633</td>\n",
       "      <td>140</td>\n",
       "      <td>2018-05-13 23:45:47</td>\n",
       "      <td>Twitter for iPhone</td>\n",
       "      <td>23</td>\n",
       "      <td>2</td>\n",
       "    </tr>\n",
       "    <tr>\n",
       "      <td>96</td>\n",
       "      <td>Up and at it!!!! On the hunt early this am!! h...</td>\n",
       "      <td>995656830834491393</td>\n",
       "      <td>68</td>\n",
       "      <td>2018-05-13 13:27:41</td>\n",
       "      <td>Twitter for iPhone</td>\n",
       "      <td>57</td>\n",
       "      <td>3</td>\n",
       "    </tr>\n",
       "    <tr>\n",
       "      <td>97</td>\n",
       "      <td>Preach!! https://t.co/amkCxYbKbU</td>\n",
       "      <td>993728355642961920</td>\n",
       "      <td>32</td>\n",
       "      <td>2018-05-08 05:44:37</td>\n",
       "      <td>Twitter for iPhone</td>\n",
       "      <td>23</td>\n",
       "      <td>4</td>\n",
       "    </tr>\n",
       "    <tr>\n",
       "      <td>98</td>\n",
       "      <td>Keep carrying them ‘Bron!! Fun to watch!!!</td>\n",
       "      <td>993727434380881920</td>\n",
       "      <td>42</td>\n",
       "      <td>2018-05-08 05:40:57</td>\n",
       "      <td>Twitter for iPhone</td>\n",
       "      <td>13</td>\n",
       "      <td>0</td>\n",
       "    </tr>\n",
       "    <tr>\n",
       "      <td>99</td>\n",
       "      <td>Let’s Get It!! https://t.co/rIk6Ax7iHi</td>\n",
       "      <td>992685360378404866</td>\n",
       "      <td>38</td>\n",
       "      <td>2018-05-05 08:40:07</td>\n",
       "      <td>Twitter for iPhone</td>\n",
       "      <td>87</td>\n",
       "      <td>4</td>\n",
       "    </tr>\n",
       "  </tbody>\n",
       "</table>\n",
       "<p>100 rows × 7 columns</p>\n",
       "</div>"
      ],
      "text/plain": [
       "                                               tweets                   id  \\\n",
       "0   Keep working kid!! @justinbradford_  #2021Clas...  1261136883595096070   \n",
       "1   Congrats again Siz! Good Work Scott!! https://...  1260787091685793793   \n",
       "2   Congratulations JB! Great decision and great d...  1260705392260083712   \n",
       "3   Keep working in the Darkness! #MakeItHappen #N...  1260025381295276032   \n",
       "4   Congrats JB on your first season at new school...  1259940684632489984   \n",
       "..                                                ...                  ...   \n",
       "95  Happy Mother’s Day to the the Past, Present , ...   995812381015109633   \n",
       "96  Up and at it!!!! On the hunt early this am!! h...   995656830834491393   \n",
       "97                   Preach!! https://t.co/amkCxYbKbU   993728355642961920   \n",
       "98         Keep carrying them ‘Bron!! Fun to watch!!!   993727434380881920   \n",
       "99             Let’s Get It!! https://t.co/rIk6Ax7iHi   992685360378404866   \n",
       "\n",
       "    len                date              source  likes  retweets  \n",
       "0    81 2020-05-15 03:30:38  Twitter for iPhone     13         2  \n",
       "1    61 2020-05-14 04:20:41  Twitter for iPhone      9         0  \n",
       "2   131 2020-05-13 22:56:02  Twitter for iPhone     11         1  \n",
       "3    78 2020-05-12 01:53:55  Twitter for iPhone     10         2  \n",
       "4   140 2020-05-11 20:17:22  Twitter for iPhone      4         0  \n",
       "..  ...                 ...                 ...    ...       ...  \n",
       "95  140 2018-05-13 23:45:47  Twitter for iPhone     23         2  \n",
       "96   68 2018-05-13 13:27:41  Twitter for iPhone     57         3  \n",
       "97   32 2018-05-08 05:44:37  Twitter for iPhone     23         4  \n",
       "98   42 2018-05-08 05:40:57  Twitter for iPhone     13         0  \n",
       "99   38 2018-05-05 08:40:07  Twitter for iPhone     87         4  \n",
       "\n",
       "[100 rows x 7 columns]"
      ]
     },
     "execution_count": 10,
     "metadata": {},
     "output_type": "execute_result"
    }
   ],
   "source": [
    "adf"
   ]
  },
  {
   "cell_type": "code",
   "execution_count": 11,
   "metadata": {},
   "outputs": [],
   "source": [
    "adf1=adf[[\"tweets\"]]"
   ]
  },
  {
   "cell_type": "code",
   "execution_count": 12,
   "metadata": {},
   "outputs": [
    {
     "data": {
      "text/html": [
       "<div>\n",
       "<style scoped>\n",
       "    .dataframe tbody tr th:only-of-type {\n",
       "        vertical-align: middle;\n",
       "    }\n",
       "\n",
       "    .dataframe tbody tr th {\n",
       "        vertical-align: top;\n",
       "    }\n",
       "\n",
       "    .dataframe thead th {\n",
       "        text-align: right;\n",
       "    }\n",
       "</style>\n",
       "<table border=\"1\" class=\"dataframe\">\n",
       "  <thead>\n",
       "    <tr style=\"text-align: right;\">\n",
       "      <th></th>\n",
       "      <th>tweets</th>\n",
       "    </tr>\n",
       "  </thead>\n",
       "  <tbody>\n",
       "    <tr>\n",
       "      <td>0</td>\n",
       "      <td>Keep working kid!! @justinbradford_  #2021Clas...</td>\n",
       "    </tr>\n",
       "    <tr>\n",
       "      <td>1</td>\n",
       "      <td>Congrats again Siz! Good Work Scott!! https://...</td>\n",
       "    </tr>\n",
       "    <tr>\n",
       "      <td>2</td>\n",
       "      <td>Congratulations JB! Great decision and great d...</td>\n",
       "    </tr>\n",
       "    <tr>\n",
       "      <td>3</td>\n",
       "      <td>Keep working in the Darkness! #MakeItHappen #N...</td>\n",
       "    </tr>\n",
       "    <tr>\n",
       "      <td>4</td>\n",
       "      <td>Congrats JB on your first season at new school...</td>\n",
       "    </tr>\n",
       "    <tr>\n",
       "      <td>5</td>\n",
       "      <td>RT @BVEvery: More than 20 offers for Bradford!</td>\n",
       "    </tr>\n",
       "    <tr>\n",
       "      <td>6</td>\n",
       "      <td>Attacking week 6 of quarantine...Go Get It!! h...</td>\n",
       "    </tr>\n",
       "    <tr>\n",
       "      <td>7</td>\n",
       "      <td>Work in the Darkness, so when the light shines...</td>\n",
       "    </tr>\n",
       "    <tr>\n",
       "      <td>8</td>\n",
       "      <td>Smooth transition from pedal to crossover, goo...</td>\n",
       "    </tr>\n",
       "    <tr>\n",
       "      <td>9</td>\n",
       "      <td>Good job getting your head around to relocate ...</td>\n",
       "    </tr>\n",
       "  </tbody>\n",
       "</table>\n",
       "</div>"
      ],
      "text/plain": [
       "                                              tweets\n",
       "0  Keep working kid!! @justinbradford_  #2021Clas...\n",
       "1  Congrats again Siz! Good Work Scott!! https://...\n",
       "2  Congratulations JB! Great decision and great d...\n",
       "3  Keep working in the Darkness! #MakeItHappen #N...\n",
       "4  Congrats JB on your first season at new school...\n",
       "5     RT @BVEvery: More than 20 offers for Bradford!\n",
       "6  Attacking week 6 of quarantine...Go Get It!! h...\n",
       "7  Work in the Darkness, so when the light shines...\n",
       "8  Smooth transition from pedal to crossover, goo...\n",
       "9  Good job getting your head around to relocate ..."
      ]
     },
     "execution_count": 12,
     "metadata": {},
     "output_type": "execute_result"
    }
   ],
   "source": [
    "adf1.head(10)"
   ]
  },
  {
   "cell_type": "code",
   "execution_count": 13,
   "metadata": {},
   "outputs": [],
   "source": [
    "adf1.to_csv('tweets.csv',index = False) "
   ]
  },
  {
   "cell_type": "markdown",
   "metadata": {},
   "source": [
    "# Training dataset"
   ]
  },
  {
   "cell_type": "code",
   "execution_count": 14,
   "metadata": {},
   "outputs": [],
   "source": [
    "import ast"
   ]
  },
  {
   "cell_type": "code",
   "execution_count": 15,
   "metadata": {},
   "outputs": [],
   "source": [
    "df = pd.concat([pd.read_csv('amazon_cells_labelled.txt', sep=\"\t\", header=None, names=[\"text\", \"label\"]),\n",
    "                pd.read_csv('imdb_labelled.txt', sep=\"\t\", header=None, names=[\"text\", \"label\"]),\n",
    "                pd.read_csv('yelp_labelled.txt', sep=\"\t\", header=None, names=[\"text\", \"label\"])])"
   ]
  },
  {
   "cell_type": "code",
   "execution_count": 16,
   "metadata": {
    "scrolled": true
   },
   "outputs": [
    {
     "data": {
      "text/html": [
       "<div>\n",
       "<style scoped>\n",
       "    .dataframe tbody tr th:only-of-type {\n",
       "        vertical-align: middle;\n",
       "    }\n",
       "\n",
       "    .dataframe tbody tr th {\n",
       "        vertical-align: top;\n",
       "    }\n",
       "\n",
       "    .dataframe thead th {\n",
       "        text-align: right;\n",
       "    }\n",
       "</style>\n",
       "<table border=\"1\" class=\"dataframe\">\n",
       "  <thead>\n",
       "    <tr style=\"text-align: right;\">\n",
       "      <th></th>\n",
       "      <th>text</th>\n",
       "      <th>label</th>\n",
       "    </tr>\n",
       "  </thead>\n",
       "  <tbody>\n",
       "    <tr>\n",
       "      <td>0</td>\n",
       "      <td>So there is no way for me to plug it in here i...</td>\n",
       "      <td>0</td>\n",
       "    </tr>\n",
       "    <tr>\n",
       "      <td>1</td>\n",
       "      <td>Good case, Excellent value.</td>\n",
       "      <td>1</td>\n",
       "    </tr>\n",
       "    <tr>\n",
       "      <td>2</td>\n",
       "      <td>Great for the jawbone.</td>\n",
       "      <td>1</td>\n",
       "    </tr>\n",
       "    <tr>\n",
       "      <td>3</td>\n",
       "      <td>Tied to charger for conversations lasting more...</td>\n",
       "      <td>0</td>\n",
       "    </tr>\n",
       "    <tr>\n",
       "      <td>4</td>\n",
       "      <td>The mic is great.</td>\n",
       "      <td>1</td>\n",
       "    </tr>\n",
       "  </tbody>\n",
       "</table>\n",
       "</div>"
      ],
      "text/plain": [
       "                                                text  label\n",
       "0  So there is no way for me to plug it in here i...      0\n",
       "1                        Good case, Excellent value.      1\n",
       "2                             Great for the jawbone.      1\n",
       "3  Tied to charger for conversations lasting more...      0\n",
       "4                                  The mic is great.      1"
      ]
     },
     "execution_count": 16,
     "metadata": {},
     "output_type": "execute_result"
    }
   ],
   "source": [
    "df.head()"
   ]
  },
  {
   "cell_type": "code",
   "execution_count": 17,
   "metadata": {},
   "outputs": [
    {
     "data": {
      "text/plain": [
       "(2748, 2)"
      ]
     },
     "execution_count": 17,
     "metadata": {},
     "output_type": "execute_result"
    }
   ],
   "source": [
    "df.shape"
   ]
  },
  {
   "cell_type": "code",
   "execution_count": 18,
   "metadata": {},
   "outputs": [],
   "source": [
    "final=df.drop('label',axis=1)\n",
    "target=df['label']"
   ]
  },
  {
   "cell_type": "code",
   "execution_count": 19,
   "metadata": {},
   "outputs": [
    {
     "name": "stdout",
     "output_type": "stream",
     "text": [
      "So there is no way for me to plug it in here in the US unless I go by a converter.\n",
      "==================================================\n",
      "A very, very, very slow-moving, aimless movie about a distressed, drifting young man.  \n",
      "==================================================\n",
      "It's a case of 'so bad it is laughable'.  \n",
      "==================================================\n",
      "The Greek dressing was very creamy and flavorful.\n",
      "==================================================\n",
      "Level 5 spicy was perfect, where spice didn't over-whelm the soup.\n",
      "==================================================\n"
     ]
    }
   ],
   "source": [
    "sent_0 = final['text'].values[0]\n",
    "print(sent_0)\n",
    "print(\"=\"*50)\n",
    "\n",
    "sent_1000 = final['text'].values[1000]\n",
    "print(sent_1000)\n",
    "print(\"=\"*50)\n",
    "\n",
    "sent_1500 = final['text'].values[1500]\n",
    "print(sent_1500)\n",
    "print(\"=\"*50)\n",
    "\n",
    "sent_2000 = final['text'].values[2000]\n",
    "print(sent_2000)\n",
    "print(\"=\"*50)\n",
    "\n",
    "sent_2500 = final['text'].values[2500]\n",
    "print(sent_2500)\n",
    "print(\"=\"*50)"
   ]
  },
  {
   "cell_type": "code",
   "execution_count": 20,
   "metadata": {},
   "outputs": [],
   "source": [
    "import re\n",
    "def decontracted(phrase):\n",
    "    # specific\n",
    "    phrase = re.sub(r\"won't\", \"will not\", phrase.replace(\"’\",\"'\"))\n",
    "    phrase = re.sub(r\"can\\'t\", \"can not\", phrase.replace(\"’\",\"'\"))\n",
    "\n",
    "    # general\n",
    "    phrase = re.sub(r\"n\\'t\", \" not\", phrase.replace(\"’\",\"'\"))\n",
    "    phrase = re.sub(r\"\\'re\", \" are\", phrase.replace(\"’\",\"'\"))\n",
    "    phrase = re.sub(r\"\\'s\", \" is\", phrase.replace(\"’\",\"'\"))\n",
    "    phrase = re.sub(r\"\\'d\", \" would\", phrase.replace(\"’\",\"'\"))\n",
    "    phrase = re.sub(r\"\\'ll\", \" will\", phrase.replace(\"’\",\"'\"))\n",
    "    phrase = re.sub(r\"\\'t\", \" not\", phrase.replace(\"’\",\"'\"))\n",
    "    phrase = re.sub(r\"\\'ve\", \" have\", phrase.replace(\"’\",\"'\"))\n",
    "    phrase = re.sub(r\"\\'m\", \" am\", phrase.replace(\"’\",\"'\"))\n",
    "    return phrase"
   ]
  },
  {
   "cell_type": "code",
   "execution_count": 21,
   "metadata": {},
   "outputs": [
    {
     "name": "stdout",
     "output_type": "stream",
     "text": [
      "So there is no way for me to plug it in here in the US unless I go by a converter.\n",
      "==================================================\n"
     ]
    }
   ],
   "source": [
    "sent_490 = decontracted(sent_0)\n",
    "print(sent_490)\n",
    "print(\"=\"*50)\n",
    "#sent_0 = decontracted(sent_0)\n",
    "#print(sent_0)\n"
   ]
  },
  {
   "cell_type": "code",
   "execution_count": 22,
   "metadata": {},
   "outputs": [],
   "source": [
    "from nltk.corpus import stopwords"
   ]
  },
  {
   "cell_type": "code",
   "execution_count": 23,
   "metadata": {},
   "outputs": [],
   "source": [
    "stopWords =set(stopwords.words('english'))"
   ]
  },
  {
   "cell_type": "code",
   "execution_count": 24,
   "metadata": {},
   "outputs": [
    {
     "name": "stdout",
     "output_type": "stream",
     "text": [
      "None\n",
      "None\n",
      "None\n"
     ]
    }
   ],
   "source": [
    "print(stopWords.remove('nor'))\n",
    "print(stopWords.remove('not'))\n",
    "print(stopWords.remove('no'))"
   ]
  },
  {
   "cell_type": "code",
   "execution_count": 25,
   "metadata": {},
   "outputs": [
    {
     "name": "stderr",
     "output_type": "stream",
     "text": [
      "100%|██████████| 2748/2748 [00:00<00:00, 14499.80it/s]\n"
     ]
    }
   ],
   "source": [
    "from tqdm import tqdm\n",
    "preprocessed_reviews = []\n",
    "# tqdm is for printing the status bar\n",
    "for sentance in tqdm(final['text'].values):\n",
    "    #sentance = re.sub(r\"http\\S+\", \"\", sentance)\n",
    "    #sentance = BeautifulSoup(sentance, 'lxml').get_text()\n",
    "    sentance = decontracted(sentance)\n",
    "    sentance = re.sub(\"\\S*\\d\\S*\", \"\", sentance).strip()\n",
    "    sentance = re.sub('[^A-Za-z]+', ' ', sentance)\n",
    "    # https://gist.github.com/sebleier/554280\n",
    "    sentance = ' '.join(e.lower() for e in sentance.split() if e.lower() not in stopWords)\n",
    "    preprocessed_reviews.append(sentance.strip())"
   ]
  },
  {
   "cell_type": "code",
   "execution_count": 26,
   "metadata": {},
   "outputs": [
    {
     "data": {
      "text/plain": [
       "'no way plug us unless go converter'"
      ]
     },
     "execution_count": 26,
     "metadata": {},
     "output_type": "execute_result"
    }
   ],
   "source": [
    "preprocessed_reviews[0]"
   ]
  },
  {
   "cell_type": "markdown",
   "metadata": {},
   "source": [
    "#  Applying KNN brute force on BAG OF WORDS"
   ]
  },
  {
   "cell_type": "code",
   "execution_count": 27,
   "metadata": {
    "scrolled": true
   },
   "outputs": [
    {
     "name": "stdout",
     "output_type": "stream",
     "text": [
      "   newCol\n",
      "0       0\n",
      "0       0\n",
      "0       1\n"
     ]
    }
   ],
   "source": [
    "fdf = target.loc[target.index<1]\n",
    "dfdf = fdf.to_frame('newCol')\n",
    "print(dfdf)"
   ]
  },
  {
   "cell_type": "code",
   "execution_count": 28,
   "metadata": {},
   "outputs": [
    {
     "name": "stdout",
     "output_type": "stream",
     "text": [
      "Number of data points in train data: 100\n",
      "Number of data points in test data: 1923\n",
      "Number of data points in cross validation data: 825\n"
     ]
    }
   ],
   "source": [
    "from sklearn.model_selection  import train_test_split\n",
    "\n",
    "x= preprocessed_reviews\n",
    "y= target\n",
    "count_vect=CountVectorizer()\n",
    "\n",
    "\n",
    "X_train = preprocessed_reviews\n",
    "X_test = adf1[\"tweets\"]\n",
    "y_train = target\n",
    "\n",
    "\n",
    "\n",
    "X_tr, X_cv, y_tr, y_cv = train_test_split(X_train, y_train, test_size=0.3)\n",
    "print('Number of data points in train data:', len(X_test))\n",
    "print('Number of data points in test data:', len(X_tr))\n",
    "print('Number of data points in cross validation data:', len(X_cv))"
   ]
  },
  {
   "cell_type": "code",
   "execution_count": 29,
   "metadata": {},
   "outputs": [
    {
     "data": {
      "image/png": "[encoded data removed]",
      "text/plain": [
       "<Figure size 432x288 with 1 Axes>"
      ]
     },
     "metadata": {},
     "output_type": "display_data"
    }
   ],
   "source": [
    "final_Xtr=count_vect.fit_transform(X_tr)\n",
    "final_Xcv=count_vect.transform(X_cv)\n",
    "final_Xtest=count_vect.transform(X_test)\n",
    "auc_cv=[]\n",
    "auc_train=[]\n",
    "K=list(range(1,40,4))\n",
    "cv_scores=[]\n",
    "for i in K:\n",
    "    knn=KNeighborsClassifier(n_neighbors=i,weights='uniform',algorithm='brute',leaf_size=30, p=2, metric='cosine')\n",
    "    knn.fit(final_Xtr, y_tr)\n",
    "    pred = knn.predict_proba(final_Xcv)[:,1]\n",
    "    auc_cv.append(roc_auc_score(y_cv,pred))\n",
    "    pred1=knn.predict_proba(final_Xtr)[:,1]\n",
    "    auc_train.append(roc_auc_score(y_tr,pred1))      \n",
    "fig = plt.figure()\n",
    "ax = plt.subplot(111)\n",
    "ax.plot(K, auc_train, label='AUC train')\n",
    "ax.plot(K, auc_cv, label='AUC CV')\n",
    "plt.title('AUC vs K')\n",
    "plt.xlabel('K')\n",
    "plt.ylabel('AUC')\n",
    "ax.legend()\n",
    "plt.show()"
   ]
  },
  {
   "cell_type": "code",
   "execution_count": 30,
   "metadata": {},
   "outputs": [],
   "source": [
    "from pandas import DataFrame\n",
    "df30 = pd.DataFrame(X_train,columns=['Column_Name'])"
   ]
  },
  {
   "cell_type": "code",
   "execution_count": 31,
   "metadata": {},
   "outputs": [
    {
     "data": {
      "text/html": [
       "<div>\n",
       "<style scoped>\n",
       "    .dataframe tbody tr th:only-of-type {\n",
       "        vertical-align: middle;\n",
       "    }\n",
       "\n",
       "    .dataframe tbody tr th {\n",
       "        vertical-align: top;\n",
       "    }\n",
       "\n",
       "    .dataframe thead th {\n",
       "        text-align: right;\n",
       "    }\n",
       "</style>\n",
       "<table border=\"1\" class=\"dataframe\">\n",
       "  <thead>\n",
       "    <tr style=\"text-align: right;\">\n",
       "      <th></th>\n",
       "      <th>Column_Name</th>\n",
       "    </tr>\n",
       "  </thead>\n",
       "  <tbody>\n",
       "    <tr>\n",
       "      <td>0</td>\n",
       "      <td>no way plug us unless go converter</td>\n",
       "    </tr>\n",
       "    <tr>\n",
       "      <td>1</td>\n",
       "      <td>good case excellent value</td>\n",
       "    </tr>\n",
       "    <tr>\n",
       "      <td>2</td>\n",
       "      <td>great jawbone</td>\n",
       "    </tr>\n",
       "    <tr>\n",
       "      <td>3</td>\n",
       "      <td>tied charger conversations lasting minutes maj...</td>\n",
       "    </tr>\n",
       "    <tr>\n",
       "      <td>4</td>\n",
       "      <td>mic great</td>\n",
       "    </tr>\n",
       "    <tr>\n",
       "      <td>...</td>\n",
       "      <td>...</td>\n",
       "    </tr>\n",
       "    <tr>\n",
       "      <td>2743</td>\n",
       "      <td>think food flavor texture lacking</td>\n",
       "    </tr>\n",
       "    <tr>\n",
       "      <td>2744</td>\n",
       "      <td>appetite instantly gone</td>\n",
       "    </tr>\n",
       "    <tr>\n",
       "      <td>2745</td>\n",
       "      <td>overall not impressed would not go back</td>\n",
       "    </tr>\n",
       "    <tr>\n",
       "      <td>2746</td>\n",
       "      <td>whole experience underwhelming think go ninja ...</td>\n",
       "    </tr>\n",
       "    <tr>\n",
       "      <td>2747</td>\n",
       "      <td>not wasted enough life poured salt wound drawi...</td>\n",
       "    </tr>\n",
       "  </tbody>\n",
       "</table>\n",
       "<p>2748 rows × 1 columns</p>\n",
       "</div>"
      ],
      "text/plain": [
       "                                            Column_Name\n",
       "0                    no way plug us unless go converter\n",
       "1                             good case excellent value\n",
       "2                                         great jawbone\n",
       "3     tied charger conversations lasting minutes maj...\n",
       "4                                             mic great\n",
       "...                                                 ...\n",
       "2743                  think food flavor texture lacking\n",
       "2744                            appetite instantly gone\n",
       "2745            overall not impressed would not go back\n",
       "2746  whole experience underwhelming think go ninja ...\n",
       "2747  not wasted enough life poured salt wound drawi...\n",
       "\n",
       "[2748 rows x 1 columns]"
      ]
     },
     "execution_count": 31,
     "metadata": {},
     "output_type": "execute_result"
    }
   ],
   "source": [
    "df30"
   ]
  },
  {
   "cell_type": "code",
   "execution_count": 32,
   "metadata": {},
   "outputs": [],
   "source": [
    "# knn = KNeighborsClassifier(n_neighbors=39)\n",
    "\n",
    "# # fitting the model\n",
    "# knn.fit(X_train, y_train)\n",
    "\n",
    "# # predict the response\n",
    "# pred = knn.predict(X_test)\n",
    "\n",
    "# # evaluate accuracy\n",
    "# print(\"accuracy: {}\".format(accuracy_score(y_test, pred)))"
   ]
  },
  {
   "cell_type": "code",
   "execution_count": 33,
   "metadata": {},
   "outputs": [
    {
     "data": {
      "image/png": "[encoded data removed]",
      "text/plain": [
       "<Figure size 432x288 with 1 Axes>"
      ]
     },
     "metadata": {},
     "output_type": "display_data"
    }
   ],
   "source": [
    "knn=KNeighborsClassifier(n_neighbors=35,weights='uniform',algorithm='brute',leaf_size=30, p=2, metric='cosine')\n",
    "knn.fit(final_Xtr,y_tr)\n",
    "predi=knn.predict_proba(final_Xtr)[:,1]\n",
    "fpr1, tpr1, thresholds1 = metrics.roc_curve(y_tr, predi)\n",
    "pred=knn.predict_proba(final_Xcv)[:,1]\n",
    "fpr2,tpr2,thresholds2=metrics.roc_curve(y_cv,pred)\n",
    "fig = plt.figure()\n",
    "ax = plt.subplot(111)\n",
    "ax.plot(fpr1, tpr1, label='Train ROC ,auc='+str(roc_auc_score(y_tr,predi)))\n",
    "ax.plot(fpr2, tpr2, label='CV ROC ,auc='+str(roc_auc_score(y_cv,pred)))\n",
    "plt.title('ROC')\n",
    "plt.xlabel('FPR')\n",
    "plt.ylabel('TPR')\n",
    "ax.legend()\n",
    "plt.show()"
   ]
  },
  {
   "cell_type": "code",
   "execution_count": 34,
   "metadata": {},
   "outputs": [],
   "source": [
    "class TwitterClient(object): \n",
    "    ''' \n",
    "    Generic Twitter Class for sentiment analysis. \n",
    "    '''\n",
    "    def __init__(self): \n",
    "        ''' \n",
    "        Class constructor or initialization method. \n",
    "        '''\n",
    "        # keys and tokens from the Twitter Dev Console \n",
    "        \n",
    "   \n",
    "      \n",
    "        # attempt authentication \n",
    "        try: \n",
    "            # create OAuthHandler object \n",
    "            self.auth = OAuthHandler(consumer_key, consumer_secret) \n",
    "            # set access token and secret \n",
    "            self.auth.set_access_token(access_token, access_token_secret) \n",
    "            # create tweepy API object to fetch tweets \n",
    "            self.api = tweepy.API(self.auth) \n",
    "        except: \n",
    "            print(\"Error: Authentication Failed\") \n",
    "  \n",
    "    def clean_tweet(self, tweet): \n",
    "        ''' \n",
    "        Utility function to clean tweet text by removing links, special characters \n",
    "        using simple regex statements. \n",
    "        '''\n",
    "        return ' '.join(re.sub(\"(@[A-Za-z0-9]+)|([^0-9A-Za-z \\t]) |(\\w+:\\/\\/\\S+)\", \" \", tweet).split()) \n",
    "  \n",
    "    def get_tweet_sentiment(self, tweet): \n",
    "        ''' \n",
    "        Utility function to classify sentiment of passed tweet \n",
    "        using textblob's sentiment method \n",
    "        '''\n",
    "        # create TextBlob object of passed tweet text \n",
    "        analysis = TextBlob(self.clean_tweet(tweet)) \n",
    "        # set sentiment \n",
    "        if analysis.sentiment.polarity > 0: \n",
    "            return 'positive'\n",
    "        elif analysis.sentiment.polarity == 0: \n",
    "            return 'neutral'\n",
    "        else: \n",
    "            return 'negative'\n",
    "  \n",
    "    def get_tweets(self, query, count = 10): \n",
    "        ''' \n",
    "        Main function to fetch tweets and parse them. \n",
    "        '''\n",
    "        # empty list to store parsed tweets \n",
    "        tweets = [] \n",
    "  \n",
    "        try: \n",
    "            # call twitter api to fetch tweets \n",
    "            fetched_tweets = self.api.search(q = query, count = count) \n",
    "  \n",
    "            # parsing tweets one by one \n",
    "            for tweet in fetched_tweets: \n",
    "                # empty dictionary to store required params of a tweet \n",
    "                parsed_tweet = {} \n",
    "  \n",
    "                # saving text of tweet \n",
    "                parsed_tweet['text'] = tweet.text \n",
    "                # saving sentiment of tweet \n",
    "                parsed_tweet['sentiment'] = self.get_tweet_sentiment(tweet.text) \n",
    "  \n",
    "                # appending parsed tweet to tweets list \n",
    "                if tweet.retweet_count > 0: \n",
    "                    # if tweet has retweets, ensure that it is appended only once \n",
    "                    if parsed_tweet not in tweets: \n",
    "                        tweets.append(parsed_tweet) \n",
    "                else: \n",
    "                    tweets.append(parsed_tweet) \n",
    "  \n",
    "            # return parsed tweets \n",
    "            return tweets \n",
    "  \n",
    "        except tweepy.TweepError as e: \n",
    "            # print error (if any) \n",
    "            print(\"Error : \" + str(e)) \n",
    "  "
   ]
  },
  {
   "cell_type": "code",
   "execution_count": 35,
   "metadata": {
    "scrolled": true
   },
   "outputs": [
    {
     "name": "stdout",
     "output_type": "stream",
     "text": [
      "Positive tweets percentage: 33.333333333333336 %\n",
      "Negative tweets percentage: 22.22222222222222 %\n",
      "Neutral tweets percentage: 44.44444444444444 % \n",
      "\n",
      "\n",
      "Positive tweets:\n",
      "@Ath_Recruiter How shitty for the people waiting for the lockdown to be lifted so they can figure out if their love… https://t.co/0IP4l2DUao\n",
      "RT @ronanburtenshaw: Life-changing fines handed out to working-class people by a government that either doesn't know its own lockdown rules…\n",
      "RT @Leratompunzi1: Di pregnancy tsa Lockdown di cute nyana yang. O kgona go bona gore bana ba teng ba dirilwe gosa jagiwa, go sena le botag…\n",
      "RT @d_mos77: You didnt really think it was going to set you free did you? 😂😂😂\n",
      "https://t.co/bFf02cfpPd\n",
      "RT @DrMadej: Any good, scientific study before or after the lockdown has shown that masks do NOT work for decreasing CV19 or any other viru…\n",
      "RT @patty_sawicki: 1) #Covid19 is NOT worse than other viral pandemics we've been through (w/o lockdown,distancing,masks) so WHY is this on…\n",
      "A great initiative from @BoortHealth to lift the spirits of many residents who have sadly been in lockdown for mont… https://t.co/29TOlNyIfc\n",
      "RT @_youhadonejob1: Getting ready for second lockdown. https://t.co/v1b8Go3TZs\n",
      "RT @ThatGirlDeej: I am SO ready for another lockdown. The first one did me SO good mentally, emotionally and financially.\n",
      "RT @nytimes: After having weathered high death rates when it resisted a lockdown in the spring, Sweden now has one of Europe’s lowest rates…\n",
      "\n",
      "\n",
      "Negative tweets:\n",
      "RT @cjtruth: Bill Barr: “You know, putting a national lockdown, stay-at-home orders, is like house arrest. Other than slavery, which was a…\n",
      "$SPY $ES_Q @realDonaldTrump mr.President please don’t fuck up my positions. No talk about capital gains taxes, or lockdown pleas thank you\n",
      "RT @Barnes_Law: Key for Trump tonight: highlight his 3 big winning issues in key swing states -- Biden voted for every bad war, every dumb…\n",
      "RT @DavidHarrisAJC: When I wonder how long we’ll be in #COVID lockdown, I think of my:\n",
      "\n",
      "-Wife, then 16, hiding for weeks in Libya in 1967,…\n",
      "@SenKamalaHarris Millions are suffering from your fake COVID-19 lockdown with a 99.5 % survival rate\n",
      "@ktm250sxr1 @JustinTrudeau Countries that have locked down saw a decrease in deaths. You seem so keen on discussing… https://t.co/p9aYWl2RgR\n",
      "RT @faizalhamssin: The ugly truth. It’s not about dalgona, masakan tak jadi or your cute little terrariums.\n",
      "\n",
      "People suffered, people got br…\n",
      "RT @BBCEarth: Awkward hugs after lockdown...⁣\n",
      "⁣\n",
      "Yellow monitor lizards are solitary animals and when threatened, a hissing noise can be hea…\n",
      "The local unit closed at P48.50 versus the dollar on Tuesday, up by one centavo from its P48.51 finish on Monday.… https://t.co/sPzzUAClzV\n",
      "RT @irenxcjnhui: I am begging all my oomfs to rt this. I am asking for your help. I really dont want to do it but I am too afraid to be lik…\n"
     ]
    }
   ],
   "source": [
    "def main(): \n",
    "    # creating object of TwitterClient Class \n",
    "    api = TwitterClient() \n",
    "    # calling function to get tweets \n",
    "    tweets = api.get_tweets(query = data_to_be_discussed, count = 200) \n",
    "  \n",
    "    # picking positive tweets from tweets \n",
    "    ptweets = [tweet for tweet in tweets if tweet['sentiment'] == 'positive'] \n",
    "    # percentage of positive tweets \n",
    "    print(\"Positive tweets percentage: {} %\".format(100*len(ptweets)/len(tweets))) \n",
    "    # picking negative tweets from tweets \n",
    "    ntweets = [tweet for tweet in tweets if tweet['sentiment'] == 'negative'] \n",
    "    # percentage of negative tweets \n",
    "    print(\"Negative tweets percentage: {} %\".format(100*len(ntweets)/len(tweets))) \n",
    "    # percentage of neutral tweets \n",
    "    print(\"Neutral tweets percentage: {} % \".format(100*(len(tweets) - len(ntweets) - len(ptweets))/len(tweets))) \n",
    "  \n",
    "    # printing first 5 positive tweets \n",
    "    print(\"\\n\\nPositive tweets:\") \n",
    "    for tweet in ptweets[:10]: \n",
    "        print(tweet['text']) \n",
    "  \n",
    "    # printing first 5 negative tweets \n",
    "    print(\"\\n\\nNegative tweets:\") \n",
    "    for tweet in ntweets[:10]: \n",
    "        print(tweet['text']) \n",
    "    \n",
    "    with open(\"tweets after sentimental anlaysis.txt\", \"w\") as output:\n",
    "        output.write(str(tweets))\n",
    "    \n",
    "if __name__ == \"__main__\": \n",
    "    # calling main function \n",
    "    main() \n"
   ]
  },
  {
   "cell_type": "code",
   "execution_count": null,
   "metadata": {},
   "outputs": [],
   "source": []
  },
  {
   "cell_type": "code",
   "execution_count": null,
   "metadata": {},
   "outputs": [],
   "source": []
  },
  {
   "cell_type": "code",
   "execution_count": null,
   "metadata": {},
   "outputs": [],
   "source": []
  }
 ],
 "metadata": {
  "kernelspec": {
   "display_name": "Python 3",
   "language": "python",
   "name": "python3"
  },
  "language_info": {
   "codemirror_mode": {
    "name": "ipython",
    "version": 3
   },
   "file_extension": ".py",
   "mimetype": "text/x-python",
   "name": "python",
   "nbconvert_exporter": "python",
   "pygments_lexer": "ipython3",
   "version": "3.6.9"
  }
 },
 "nbformat": 4,
 "nbformat_minor": 2
}
